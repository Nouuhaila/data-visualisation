{
 "cells": [
  {
   "cell_type": "markdown",
   "metadata": {},
   "source": [
    "# Part I - Flights\n",
    "## by Nouhaila Ait Bella\n",
    "\n",
    "## Introduction\n",
    "\n",
    "\n",
    "In this project I'm going to analyze a data set with information about flights in the United States for 2007.\n",
    "\n",
    "\n",
    "\n",
    "## Preliminary Wrangling\n"
   ]
  },
  {
   "cell_type": "code",
   "execution_count": 1,
   "metadata": {},
   "outputs": [],
   "source": [
    "# import all packages and set plots to be embedded inline\n",
    "import numpy as np\n",
    "import pandas as pd\n",
    "import matplotlib.pyplot as plt\n",
    "import seaborn as sb\n",
    "\n",
    "%matplotlib inline"
   ]
  },
  {
   "cell_type": "code",
   "execution_count": 2,
   "metadata": {},
   "outputs": [],
   "source": [
    "flights=pd.read_csv('2007.csv')"
   ]
  },
  {
   "cell_type": "code",
   "execution_count": 3,
   "metadata": {},
   "outputs": [],
   "source": [
    "#copy \n",
    "df=flights.copy()"
   ]
  },
  {
   "cell_type": "code",
   "execution_count": 4,
   "metadata": {},
   "outputs": [
    {
     "name": "stdout",
     "output_type": "stream",
     "text": [
      "<class 'pandas.core.frame.DataFrame'>\n",
      "RangeIndex: 7453215 entries, 0 to 7453214\n",
      "Data columns (total 29 columns):\n",
      "Year                 7453215 non-null int64\n",
      "Month                7453215 non-null int64\n",
      "DayofMonth           7453215 non-null int64\n",
      "DayOfWeek            7453215 non-null int64\n",
      "DepTime              7292467 non-null float64\n",
      "CRSDepTime           7453215 non-null int64\n",
      "ArrTime              7275288 non-null float64\n",
      "CRSArrTime           7453215 non-null int64\n",
      "UniqueCarrier        7453215 non-null object\n",
      "FlightNum            7453215 non-null int64\n",
      "TailNum              7453193 non-null object\n",
      "ActualElapsedTime    7275288 non-null float64\n",
      "CRSElapsedTime       7452221 non-null float64\n",
      "AirTime              7275288 non-null float64\n",
      "ArrDelay             7275288 non-null float64\n",
      "DepDelay             7292467 non-null float64\n",
      "Origin               7453215 non-null object\n",
      "Dest                 7453215 non-null object\n",
      "Distance             7453215 non-null int64\n",
      "TaxiIn               7453215 non-null int64\n",
      "TaxiOut              7453215 non-null int64\n",
      "Cancelled            7453215 non-null int64\n",
      "CancellationCode     160749 non-null object\n",
      "Diverted             7453215 non-null int64\n",
      "CarrierDelay         7453215 non-null int64\n",
      "WeatherDelay         7453215 non-null int64\n",
      "NASDelay             7453215 non-null int64\n",
      "SecurityDelay        7453215 non-null int64\n",
      "LateAircraftDelay    7453215 non-null int64\n",
      "dtypes: float64(7), int64(17), object(5)\n",
      "memory usage: 1.6+ GB\n"
     ]
    }
   ],
   "source": [
    "#showing info\n",
    "df.info(null_counts=True)"
   ]
  },
  {
   "cell_type": "code",
   "execution_count": 5,
   "metadata": {},
   "outputs": [
    {
     "data": {
      "text/html": [
       "<div>\n",
       "<style scoped>\n",
       "    .dataframe tbody tr th:only-of-type {\n",
       "        vertical-align: middle;\n",
       "    }\n",
       "\n",
       "    .dataframe tbody tr th {\n",
       "        vertical-align: top;\n",
       "    }\n",
       "\n",
       "    .dataframe thead th {\n",
       "        text-align: right;\n",
       "    }\n",
       "</style>\n",
       "<table border=\"1\" class=\"dataframe\">\n",
       "  <thead>\n",
       "    <tr style=\"text-align: right;\">\n",
       "      <th></th>\n",
       "      <th>Year</th>\n",
       "      <th>Month</th>\n",
       "      <th>DayofMonth</th>\n",
       "      <th>DayOfWeek</th>\n",
       "      <th>DepTime</th>\n",
       "      <th>CRSDepTime</th>\n",
       "      <th>ArrTime</th>\n",
       "      <th>CRSArrTime</th>\n",
       "      <th>UniqueCarrier</th>\n",
       "      <th>FlightNum</th>\n",
       "      <th>...</th>\n",
       "      <th>TaxiIn</th>\n",
       "      <th>TaxiOut</th>\n",
       "      <th>Cancelled</th>\n",
       "      <th>CancellationCode</th>\n",
       "      <th>Diverted</th>\n",
       "      <th>CarrierDelay</th>\n",
       "      <th>WeatherDelay</th>\n",
       "      <th>NASDelay</th>\n",
       "      <th>SecurityDelay</th>\n",
       "      <th>LateAircraftDelay</th>\n",
       "    </tr>\n",
       "  </thead>\n",
       "  <tbody>\n",
       "    <tr>\n",
       "      <th>0</th>\n",
       "      <td>2007</td>\n",
       "      <td>1</td>\n",
       "      <td>1</td>\n",
       "      <td>1</td>\n",
       "      <td>1232.0</td>\n",
       "      <td>1225</td>\n",
       "      <td>1341.0</td>\n",
       "      <td>1340</td>\n",
       "      <td>WN</td>\n",
       "      <td>2891</td>\n",
       "      <td>...</td>\n",
       "      <td>4</td>\n",
       "      <td>11</td>\n",
       "      <td>0</td>\n",
       "      <td>NaN</td>\n",
       "      <td>0</td>\n",
       "      <td>0</td>\n",
       "      <td>0</td>\n",
       "      <td>0</td>\n",
       "      <td>0</td>\n",
       "      <td>0</td>\n",
       "    </tr>\n",
       "    <tr>\n",
       "      <th>1</th>\n",
       "      <td>2007</td>\n",
       "      <td>1</td>\n",
       "      <td>1</td>\n",
       "      <td>1</td>\n",
       "      <td>1918.0</td>\n",
       "      <td>1905</td>\n",
       "      <td>2043.0</td>\n",
       "      <td>2035</td>\n",
       "      <td>WN</td>\n",
       "      <td>462</td>\n",
       "      <td>...</td>\n",
       "      <td>5</td>\n",
       "      <td>6</td>\n",
       "      <td>0</td>\n",
       "      <td>NaN</td>\n",
       "      <td>0</td>\n",
       "      <td>0</td>\n",
       "      <td>0</td>\n",
       "      <td>0</td>\n",
       "      <td>0</td>\n",
       "      <td>0</td>\n",
       "    </tr>\n",
       "    <tr>\n",
       "      <th>2</th>\n",
       "      <td>2007</td>\n",
       "      <td>1</td>\n",
       "      <td>1</td>\n",
       "      <td>1</td>\n",
       "      <td>2206.0</td>\n",
       "      <td>2130</td>\n",
       "      <td>2334.0</td>\n",
       "      <td>2300</td>\n",
       "      <td>WN</td>\n",
       "      <td>1229</td>\n",
       "      <td>...</td>\n",
       "      <td>6</td>\n",
       "      <td>9</td>\n",
       "      <td>0</td>\n",
       "      <td>NaN</td>\n",
       "      <td>0</td>\n",
       "      <td>3</td>\n",
       "      <td>0</td>\n",
       "      <td>0</td>\n",
       "      <td>0</td>\n",
       "      <td>31</td>\n",
       "    </tr>\n",
       "    <tr>\n",
       "      <th>3</th>\n",
       "      <td>2007</td>\n",
       "      <td>1</td>\n",
       "      <td>1</td>\n",
       "      <td>1</td>\n",
       "      <td>1230.0</td>\n",
       "      <td>1200</td>\n",
       "      <td>1356.0</td>\n",
       "      <td>1330</td>\n",
       "      <td>WN</td>\n",
       "      <td>1355</td>\n",
       "      <td>...</td>\n",
       "      <td>3</td>\n",
       "      <td>8</td>\n",
       "      <td>0</td>\n",
       "      <td>NaN</td>\n",
       "      <td>0</td>\n",
       "      <td>23</td>\n",
       "      <td>0</td>\n",
       "      <td>0</td>\n",
       "      <td>0</td>\n",
       "      <td>3</td>\n",
       "    </tr>\n",
       "    <tr>\n",
       "      <th>4</th>\n",
       "      <td>2007</td>\n",
       "      <td>1</td>\n",
       "      <td>1</td>\n",
       "      <td>1</td>\n",
       "      <td>831.0</td>\n",
       "      <td>830</td>\n",
       "      <td>957.0</td>\n",
       "      <td>1000</td>\n",
       "      <td>WN</td>\n",
       "      <td>2278</td>\n",
       "      <td>...</td>\n",
       "      <td>3</td>\n",
       "      <td>9</td>\n",
       "      <td>0</td>\n",
       "      <td>NaN</td>\n",
       "      <td>0</td>\n",
       "      <td>0</td>\n",
       "      <td>0</td>\n",
       "      <td>0</td>\n",
       "      <td>0</td>\n",
       "      <td>0</td>\n",
       "    </tr>\n",
       "  </tbody>\n",
       "</table>\n",
       "<p>5 rows × 29 columns</p>\n",
       "</div>"
      ],
      "text/plain": [
       "   Year  Month  DayofMonth  DayOfWeek  DepTime  CRSDepTime  ArrTime  \\\n",
       "0  2007      1           1          1   1232.0        1225   1341.0   \n",
       "1  2007      1           1          1   1918.0        1905   2043.0   \n",
       "2  2007      1           1          1   2206.0        2130   2334.0   \n",
       "3  2007      1           1          1   1230.0        1200   1356.0   \n",
       "4  2007      1           1          1    831.0         830    957.0   \n",
       "\n",
       "   CRSArrTime UniqueCarrier  FlightNum        ...         TaxiIn  TaxiOut  \\\n",
       "0        1340            WN       2891        ...              4       11   \n",
       "1        2035            WN        462        ...              5        6   \n",
       "2        2300            WN       1229        ...              6        9   \n",
       "3        1330            WN       1355        ...              3        8   \n",
       "4        1000            WN       2278        ...              3        9   \n",
       "\n",
       "   Cancelled  CancellationCode  Diverted  CarrierDelay WeatherDelay NASDelay  \\\n",
       "0          0               NaN         0             0            0        0   \n",
       "1          0               NaN         0             0            0        0   \n",
       "2          0               NaN         0             3            0        0   \n",
       "3          0               NaN         0            23            0        0   \n",
       "4          0               NaN         0             0            0        0   \n",
       "\n",
       "   SecurityDelay  LateAircraftDelay  \n",
       "0              0                  0  \n",
       "1              0                  0  \n",
       "2              0                 31  \n",
       "3              0                  3  \n",
       "4              0                  0  \n",
       "\n",
       "[5 rows x 29 columns]"
      ]
     },
     "execution_count": 5,
     "metadata": {},
     "output_type": "execute_result"
    }
   ],
   "source": [
    "df.head()"
   ]
  },
  {
   "cell_type": "code",
   "execution_count": 6,
   "metadata": {},
   "outputs": [
    {
     "data": {
      "text/plain": [
       "Index(['Year', 'Month', 'DayofMonth', 'DayOfWeek', 'DepTime', 'CRSDepTime',\n",
       "       'ArrTime', 'CRSArrTime', 'UniqueCarrier', 'FlightNum', 'TailNum',\n",
       "       'ActualElapsedTime', 'CRSElapsedTime', 'AirTime', 'ArrDelay',\n",
       "       'DepDelay', 'Origin', 'Dest', 'Distance', 'TaxiIn', 'TaxiOut',\n",
       "       'Cancelled', 'CancellationCode', 'Diverted', 'CarrierDelay',\n",
       "       'WeatherDelay', 'NASDelay', 'SecurityDelay', 'LateAircraftDelay'],\n",
       "      dtype='object')"
      ]
     },
     "execution_count": 6,
     "metadata": {},
     "output_type": "execute_result"
    }
   ],
   "source": [
    "df.columns"
   ]
  },
  {
   "cell_type": "code",
   "execution_count": 7,
   "metadata": {},
   "outputs": [
    {
     "data": {
      "text/html": [
       "<div>\n",
       "<style scoped>\n",
       "    .dataframe tbody tr th:only-of-type {\n",
       "        vertical-align: middle;\n",
       "    }\n",
       "\n",
       "    .dataframe tbody tr th {\n",
       "        vertical-align: top;\n",
       "    }\n",
       "\n",
       "    .dataframe thead th {\n",
       "        text-align: right;\n",
       "    }\n",
       "</style>\n",
       "<table border=\"1\" class=\"dataframe\">\n",
       "  <thead>\n",
       "    <tr style=\"text-align: right;\">\n",
       "      <th></th>\n",
       "      <th>Year</th>\n",
       "      <th>Month</th>\n",
       "      <th>DayofMonth</th>\n",
       "      <th>DayOfWeek</th>\n",
       "      <th>DepTime</th>\n",
       "      <th>CRSDepTime</th>\n",
       "      <th>ArrTime</th>\n",
       "      <th>CRSArrTime</th>\n",
       "      <th>FlightNum</th>\n",
       "      <th>ActualElapsedTime</th>\n",
       "      <th>...</th>\n",
       "      <th>Distance</th>\n",
       "      <th>TaxiIn</th>\n",
       "      <th>TaxiOut</th>\n",
       "      <th>Cancelled</th>\n",
       "      <th>Diverted</th>\n",
       "      <th>CarrierDelay</th>\n",
       "      <th>WeatherDelay</th>\n",
       "      <th>NASDelay</th>\n",
       "      <th>SecurityDelay</th>\n",
       "      <th>LateAircraftDelay</th>\n",
       "    </tr>\n",
       "  </thead>\n",
       "  <tbody>\n",
       "    <tr>\n",
       "      <th>count</th>\n",
       "      <td>7453215.0</td>\n",
       "      <td>7.453215e+06</td>\n",
       "      <td>7.453215e+06</td>\n",
       "      <td>7.453215e+06</td>\n",
       "      <td>7.292467e+06</td>\n",
       "      <td>7.453215e+06</td>\n",
       "      <td>7.275288e+06</td>\n",
       "      <td>7.453215e+06</td>\n",
       "      <td>7.453215e+06</td>\n",
       "      <td>7.275288e+06</td>\n",
       "      <td>...</td>\n",
       "      <td>7.453215e+06</td>\n",
       "      <td>7.453215e+06</td>\n",
       "      <td>7.453215e+06</td>\n",
       "      <td>7.453215e+06</td>\n",
       "      <td>7.453215e+06</td>\n",
       "      <td>7.453215e+06</td>\n",
       "      <td>7.453215e+06</td>\n",
       "      <td>7.453215e+06</td>\n",
       "      <td>7.453215e+06</td>\n",
       "      <td>7.453215e+06</td>\n",
       "    </tr>\n",
       "    <tr>\n",
       "      <th>mean</th>\n",
       "      <td>2007.0</td>\n",
       "      <td>6.514876e+00</td>\n",
       "      <td>1.572589e+01</td>\n",
       "      <td>3.933804e+00</td>\n",
       "      <td>1.339221e+03</td>\n",
       "      <td>1.330596e+03</td>\n",
       "      <td>1.482105e+03</td>\n",
       "      <td>1.495392e+03</td>\n",
       "      <td>2.188099e+03</td>\n",
       "      <td>1.263223e+02</td>\n",
       "      <td>...</td>\n",
       "      <td>7.198058e+02</td>\n",
       "      <td>6.691984e+00</td>\n",
       "      <td>1.630015e+01</td>\n",
       "      <td>2.156761e-02</td>\n",
       "      <td>2.304911e-03</td>\n",
       "      <td>3.865236e+00</td>\n",
       "      <td>7.700904e-01</td>\n",
       "      <td>3.783702e+00</td>\n",
       "      <td>2.373553e-02</td>\n",
       "      <td>5.099134e+00</td>\n",
       "    </tr>\n",
       "    <tr>\n",
       "      <th>std</th>\n",
       "      <td>0.0</td>\n",
       "      <td>3.425117e+00</td>\n",
       "      <td>8.781154e+00</td>\n",
       "      <td>1.992267e+00</td>\n",
       "      <td>4.798528e+02</td>\n",
       "      <td>4.647080e+02</td>\n",
       "      <td>5.072241e+02</td>\n",
       "      <td>4.815902e+02</td>\n",
       "      <td>1.971958e+03</td>\n",
       "      <td>7.118009e+01</td>\n",
       "      <td>...</td>\n",
       "      <td>5.623051e+02</td>\n",
       "      <td>5.151351e+00</td>\n",
       "      <td>1.183396e+01</td>\n",
       "      <td>1.452668e-01</td>\n",
       "      <td>4.795413e-02</td>\n",
       "      <td>2.084240e+01</td>\n",
       "      <td>9.619547e+00</td>\n",
       "      <td>1.617670e+01</td>\n",
       "      <td>1.084995e+00</td>\n",
       "      <td>2.127753e+01</td>\n",
       "    </tr>\n",
       "    <tr>\n",
       "      <th>min</th>\n",
       "      <td>2007.0</td>\n",
       "      <td>1.000000e+00</td>\n",
       "      <td>1.000000e+00</td>\n",
       "      <td>1.000000e+00</td>\n",
       "      <td>1.000000e+00</td>\n",
       "      <td>0.000000e+00</td>\n",
       "      <td>1.000000e+00</td>\n",
       "      <td>0.000000e+00</td>\n",
       "      <td>1.000000e+00</td>\n",
       "      <td>1.200000e+01</td>\n",
       "      <td>...</td>\n",
       "      <td>1.100000e+01</td>\n",
       "      <td>0.000000e+00</td>\n",
       "      <td>0.000000e+00</td>\n",
       "      <td>0.000000e+00</td>\n",
       "      <td>0.000000e+00</td>\n",
       "      <td>0.000000e+00</td>\n",
       "      <td>0.000000e+00</td>\n",
       "      <td>0.000000e+00</td>\n",
       "      <td>0.000000e+00</td>\n",
       "      <td>0.000000e+00</td>\n",
       "    </tr>\n",
       "    <tr>\n",
       "      <th>25%</th>\n",
       "      <td>2007.0</td>\n",
       "      <td>4.000000e+00</td>\n",
       "      <td>8.000000e+00</td>\n",
       "      <td>2.000000e+00</td>\n",
       "      <td>9.300000e+02</td>\n",
       "      <td>9.300000e+02</td>\n",
       "      <td>1.107000e+03</td>\n",
       "      <td>1.115000e+03</td>\n",
       "      <td>5.900000e+02</td>\n",
       "      <td>7.600000e+01</td>\n",
       "      <td>...</td>\n",
       "      <td>3.190000e+02</td>\n",
       "      <td>4.000000e+00</td>\n",
       "      <td>1.000000e+01</td>\n",
       "      <td>0.000000e+00</td>\n",
       "      <td>0.000000e+00</td>\n",
       "      <td>0.000000e+00</td>\n",
       "      <td>0.000000e+00</td>\n",
       "      <td>0.000000e+00</td>\n",
       "      <td>0.000000e+00</td>\n",
       "      <td>0.000000e+00</td>\n",
       "    </tr>\n",
       "    <tr>\n",
       "      <th>50%</th>\n",
       "      <td>2007.0</td>\n",
       "      <td>7.000000e+00</td>\n",
       "      <td>1.600000e+01</td>\n",
       "      <td>4.000000e+00</td>\n",
       "      <td>1.329000e+03</td>\n",
       "      <td>1.322000e+03</td>\n",
       "      <td>1.513000e+03</td>\n",
       "      <td>1.520000e+03</td>\n",
       "      <td>1.509000e+03</td>\n",
       "      <td>1.080000e+02</td>\n",
       "      <td>...</td>\n",
       "      <td>5.690000e+02</td>\n",
       "      <td>5.000000e+00</td>\n",
       "      <td>1.400000e+01</td>\n",
       "      <td>0.000000e+00</td>\n",
       "      <td>0.000000e+00</td>\n",
       "      <td>0.000000e+00</td>\n",
       "      <td>0.000000e+00</td>\n",
       "      <td>0.000000e+00</td>\n",
       "      <td>0.000000e+00</td>\n",
       "      <td>0.000000e+00</td>\n",
       "    </tr>\n",
       "    <tr>\n",
       "      <th>75%</th>\n",
       "      <td>2007.0</td>\n",
       "      <td>9.000000e+00</td>\n",
       "      <td>2.300000e+01</td>\n",
       "      <td>6.000000e+00</td>\n",
       "      <td>1.733000e+03</td>\n",
       "      <td>1.720000e+03</td>\n",
       "      <td>1.911000e+03</td>\n",
       "      <td>1.906000e+03</td>\n",
       "      <td>3.553000e+03</td>\n",
       "      <td>1.560000e+02</td>\n",
       "      <td>...</td>\n",
       "      <td>9.460000e+02</td>\n",
       "      <td>8.000000e+00</td>\n",
       "      <td>1.900000e+01</td>\n",
       "      <td>0.000000e+00</td>\n",
       "      <td>0.000000e+00</td>\n",
       "      <td>0.000000e+00</td>\n",
       "      <td>0.000000e+00</td>\n",
       "      <td>0.000000e+00</td>\n",
       "      <td>0.000000e+00</td>\n",
       "      <td>0.000000e+00</td>\n",
       "    </tr>\n",
       "    <tr>\n",
       "      <th>max</th>\n",
       "      <td>2007.0</td>\n",
       "      <td>1.200000e+01</td>\n",
       "      <td>3.100000e+01</td>\n",
       "      <td>7.000000e+00</td>\n",
       "      <td>2.400000e+03</td>\n",
       "      <td>2.359000e+03</td>\n",
       "      <td>2.400000e+03</td>\n",
       "      <td>2.400000e+03</td>\n",
       "      <td>9.602000e+03</td>\n",
       "      <td>1.270000e+03</td>\n",
       "      <td>...</td>\n",
       "      <td>4.962000e+03</td>\n",
       "      <td>5.450000e+02</td>\n",
       "      <td>5.300000e+02</td>\n",
       "      <td>1.000000e+00</td>\n",
       "      <td>1.000000e+00</td>\n",
       "      <td>2.580000e+03</td>\n",
       "      <td>1.429000e+03</td>\n",
       "      <td>1.386000e+03</td>\n",
       "      <td>3.820000e+02</td>\n",
       "      <td>1.031000e+03</td>\n",
       "    </tr>\n",
       "  </tbody>\n",
       "</table>\n",
       "<p>8 rows × 24 columns</p>\n",
       "</div>"
      ],
      "text/plain": [
       "            Year         Month    DayofMonth     DayOfWeek       DepTime  \\\n",
       "count  7453215.0  7.453215e+06  7.453215e+06  7.453215e+06  7.292467e+06   \n",
       "mean      2007.0  6.514876e+00  1.572589e+01  3.933804e+00  1.339221e+03   \n",
       "std          0.0  3.425117e+00  8.781154e+00  1.992267e+00  4.798528e+02   \n",
       "min       2007.0  1.000000e+00  1.000000e+00  1.000000e+00  1.000000e+00   \n",
       "25%       2007.0  4.000000e+00  8.000000e+00  2.000000e+00  9.300000e+02   \n",
       "50%       2007.0  7.000000e+00  1.600000e+01  4.000000e+00  1.329000e+03   \n",
       "75%       2007.0  9.000000e+00  2.300000e+01  6.000000e+00  1.733000e+03   \n",
       "max       2007.0  1.200000e+01  3.100000e+01  7.000000e+00  2.400000e+03   \n",
       "\n",
       "         CRSDepTime       ArrTime    CRSArrTime     FlightNum  \\\n",
       "count  7.453215e+06  7.275288e+06  7.453215e+06  7.453215e+06   \n",
       "mean   1.330596e+03  1.482105e+03  1.495392e+03  2.188099e+03   \n",
       "std    4.647080e+02  5.072241e+02  4.815902e+02  1.971958e+03   \n",
       "min    0.000000e+00  1.000000e+00  0.000000e+00  1.000000e+00   \n",
       "25%    9.300000e+02  1.107000e+03  1.115000e+03  5.900000e+02   \n",
       "50%    1.322000e+03  1.513000e+03  1.520000e+03  1.509000e+03   \n",
       "75%    1.720000e+03  1.911000e+03  1.906000e+03  3.553000e+03   \n",
       "max    2.359000e+03  2.400000e+03  2.400000e+03  9.602000e+03   \n",
       "\n",
       "       ActualElapsedTime        ...              Distance        TaxiIn  \\\n",
       "count       7.275288e+06        ...          7.453215e+06  7.453215e+06   \n",
       "mean        1.263223e+02        ...          7.198058e+02  6.691984e+00   \n",
       "std         7.118009e+01        ...          5.623051e+02  5.151351e+00   \n",
       "min         1.200000e+01        ...          1.100000e+01  0.000000e+00   \n",
       "25%         7.600000e+01        ...          3.190000e+02  4.000000e+00   \n",
       "50%         1.080000e+02        ...          5.690000e+02  5.000000e+00   \n",
       "75%         1.560000e+02        ...          9.460000e+02  8.000000e+00   \n",
       "max         1.270000e+03        ...          4.962000e+03  5.450000e+02   \n",
       "\n",
       "            TaxiOut     Cancelled      Diverted  CarrierDelay  WeatherDelay  \\\n",
       "count  7.453215e+06  7.453215e+06  7.453215e+06  7.453215e+06  7.453215e+06   \n",
       "mean   1.630015e+01  2.156761e-02  2.304911e-03  3.865236e+00  7.700904e-01   \n",
       "std    1.183396e+01  1.452668e-01  4.795413e-02  2.084240e+01  9.619547e+00   \n",
       "min    0.000000e+00  0.000000e+00  0.000000e+00  0.000000e+00  0.000000e+00   \n",
       "25%    1.000000e+01  0.000000e+00  0.000000e+00  0.000000e+00  0.000000e+00   \n",
       "50%    1.400000e+01  0.000000e+00  0.000000e+00  0.000000e+00  0.000000e+00   \n",
       "75%    1.900000e+01  0.000000e+00  0.000000e+00  0.000000e+00  0.000000e+00   \n",
       "max    5.300000e+02  1.000000e+00  1.000000e+00  2.580000e+03  1.429000e+03   \n",
       "\n",
       "           NASDelay  SecurityDelay  LateAircraftDelay  \n",
       "count  7.453215e+06   7.453215e+06       7.453215e+06  \n",
       "mean   3.783702e+00   2.373553e-02       5.099134e+00  \n",
       "std    1.617670e+01   1.084995e+00       2.127753e+01  \n",
       "min    0.000000e+00   0.000000e+00       0.000000e+00  \n",
       "25%    0.000000e+00   0.000000e+00       0.000000e+00  \n",
       "50%    0.000000e+00   0.000000e+00       0.000000e+00  \n",
       "75%    0.000000e+00   0.000000e+00       0.000000e+00  \n",
       "max    1.386000e+03   3.820000e+02       1.031000e+03  \n",
       "\n",
       "[8 rows x 24 columns]"
      ]
     },
     "execution_count": 7,
     "metadata": {},
     "output_type": "execute_result"
    }
   ],
   "source": [
    "df.describe()"
   ]
  },
  {
   "cell_type": "code",
   "execution_count": 8,
   "metadata": {},
   "outputs": [
    {
     "data": {
      "text/html": [
       "<div>\n",
       "<style scoped>\n",
       "    .dataframe tbody tr th:only-of-type {\n",
       "        vertical-align: middle;\n",
       "    }\n",
       "\n",
       "    .dataframe tbody tr th {\n",
       "        vertical-align: top;\n",
       "    }\n",
       "\n",
       "    .dataframe thead th {\n",
       "        text-align: right;\n",
       "    }\n",
       "</style>\n",
       "<table border=\"1\" class=\"dataframe\">\n",
       "  <thead>\n",
       "    <tr style=\"text-align: right;\">\n",
       "      <th></th>\n",
       "      <th>Year</th>\n",
       "      <th>Month</th>\n",
       "      <th>DayofMonth</th>\n",
       "      <th>DayOfWeek</th>\n",
       "      <th>DepTime</th>\n",
       "      <th>CRSDepTime</th>\n",
       "      <th>ArrTime</th>\n",
       "      <th>CRSArrTime</th>\n",
       "      <th>UniqueCarrier</th>\n",
       "      <th>FlightNum</th>\n",
       "      <th>...</th>\n",
       "      <th>TaxiIn</th>\n",
       "      <th>TaxiOut</th>\n",
       "      <th>Cancelled</th>\n",
       "      <th>CancellationCode</th>\n",
       "      <th>Diverted</th>\n",
       "      <th>CarrierDelay</th>\n",
       "      <th>WeatherDelay</th>\n",
       "      <th>NASDelay</th>\n",
       "      <th>SecurityDelay</th>\n",
       "      <th>LateAircraftDelay</th>\n",
       "    </tr>\n",
       "  </thead>\n",
       "  <tbody>\n",
       "    <tr>\n",
       "      <th>6817547</th>\n",
       "      <td>2007</td>\n",
       "      <td>11</td>\n",
       "      <td>2</td>\n",
       "      <td>5</td>\n",
       "      <td>1820.0</td>\n",
       "      <td>1828</td>\n",
       "      <td>1932.0</td>\n",
       "      <td>1943</td>\n",
       "      <td>CO</td>\n",
       "      <td>1807</td>\n",
       "      <td>...</td>\n",
       "      <td>7</td>\n",
       "      <td>13</td>\n",
       "      <td>0</td>\n",
       "      <td>NaN</td>\n",
       "      <td>0</td>\n",
       "      <td>0</td>\n",
       "      <td>0</td>\n",
       "      <td>0</td>\n",
       "      <td>0</td>\n",
       "      <td>0</td>\n",
       "    </tr>\n",
       "    <tr>\n",
       "      <th>1428705</th>\n",
       "      <td>2007</td>\n",
       "      <td>3</td>\n",
       "      <td>11</td>\n",
       "      <td>7</td>\n",
       "      <td>1521.0</td>\n",
       "      <td>1526</td>\n",
       "      <td>1901.0</td>\n",
       "      <td>1859</td>\n",
       "      <td>UA</td>\n",
       "      <td>288</td>\n",
       "      <td>...</td>\n",
       "      <td>19</td>\n",
       "      <td>13</td>\n",
       "      <td>0</td>\n",
       "      <td>NaN</td>\n",
       "      <td>0</td>\n",
       "      <td>0</td>\n",
       "      <td>0</td>\n",
       "      <td>0</td>\n",
       "      <td>0</td>\n",
       "      <td>0</td>\n",
       "    </tr>\n",
       "    <tr>\n",
       "      <th>373633</th>\n",
       "      <td>2007</td>\n",
       "      <td>1</td>\n",
       "      <td>23</td>\n",
       "      <td>2</td>\n",
       "      <td>911.0</td>\n",
       "      <td>920</td>\n",
       "      <td>1011.0</td>\n",
       "      <td>1027</td>\n",
       "      <td>FL</td>\n",
       "      <td>576</td>\n",
       "      <td>...</td>\n",
       "      <td>5</td>\n",
       "      <td>11</td>\n",
       "      <td>0</td>\n",
       "      <td>NaN</td>\n",
       "      <td>0</td>\n",
       "      <td>0</td>\n",
       "      <td>0</td>\n",
       "      <td>0</td>\n",
       "      <td>0</td>\n",
       "      <td>0</td>\n",
       "    </tr>\n",
       "    <tr>\n",
       "      <th>2215003</th>\n",
       "      <td>2007</td>\n",
       "      <td>4</td>\n",
       "      <td>17</td>\n",
       "      <td>2</td>\n",
       "      <td>635.0</td>\n",
       "      <td>640</td>\n",
       "      <td>743.0</td>\n",
       "      <td>740</td>\n",
       "      <td>MQ</td>\n",
       "      <td>3256</td>\n",
       "      <td>...</td>\n",
       "      <td>21</td>\n",
       "      <td>7</td>\n",
       "      <td>0</td>\n",
       "      <td>NaN</td>\n",
       "      <td>0</td>\n",
       "      <td>0</td>\n",
       "      <td>0</td>\n",
       "      <td>0</td>\n",
       "      <td>0</td>\n",
       "      <td>0</td>\n",
       "    </tr>\n",
       "    <tr>\n",
       "      <th>7144399</th>\n",
       "      <td>2007</td>\n",
       "      <td>12</td>\n",
       "      <td>2</td>\n",
       "      <td>7</td>\n",
       "      <td>631.0</td>\n",
       "      <td>635</td>\n",
       "      <td>905.0</td>\n",
       "      <td>935</td>\n",
       "      <td>WN</td>\n",
       "      <td>3928</td>\n",
       "      <td>...</td>\n",
       "      <td>4</td>\n",
       "      <td>10</td>\n",
       "      <td>0</td>\n",
       "      <td>NaN</td>\n",
       "      <td>0</td>\n",
       "      <td>0</td>\n",
       "      <td>0</td>\n",
       "      <td>0</td>\n",
       "      <td>0</td>\n",
       "      <td>0</td>\n",
       "    </tr>\n",
       "  </tbody>\n",
       "</table>\n",
       "<p>5 rows × 29 columns</p>\n",
       "</div>"
      ],
      "text/plain": [
       "         Year  Month  DayofMonth  DayOfWeek  DepTime  CRSDepTime  ArrTime  \\\n",
       "6817547  2007     11           2          5   1820.0        1828   1932.0   \n",
       "1428705  2007      3          11          7   1521.0        1526   1901.0   \n",
       "373633   2007      1          23          2    911.0         920   1011.0   \n",
       "2215003  2007      4          17          2    635.0         640    743.0   \n",
       "7144399  2007     12           2          7    631.0         635    905.0   \n",
       "\n",
       "         CRSArrTime UniqueCarrier  FlightNum        ...         TaxiIn  \\\n",
       "6817547        1943            CO       1807        ...              7   \n",
       "1428705        1859            UA        288        ...             19   \n",
       "373633         1027            FL        576        ...              5   \n",
       "2215003         740            MQ       3256        ...             21   \n",
       "7144399         935            WN       3928        ...              4   \n",
       "\n",
       "         TaxiOut  Cancelled  CancellationCode  Diverted  CarrierDelay  \\\n",
       "6817547       13          0               NaN         0             0   \n",
       "1428705       13          0               NaN         0             0   \n",
       "373633        11          0               NaN         0             0   \n",
       "2215003        7          0               NaN         0             0   \n",
       "7144399       10          0               NaN         0             0   \n",
       "\n",
       "        WeatherDelay NASDelay  SecurityDelay  LateAircraftDelay  \n",
       "6817547            0        0              0                  0  \n",
       "1428705            0        0              0                  0  \n",
       "373633             0        0              0                  0  \n",
       "2215003            0        0              0                  0  \n",
       "7144399            0        0              0                  0  \n",
       "\n",
       "[5 rows x 29 columns]"
      ]
     },
     "execution_count": 8,
     "metadata": {},
     "output_type": "execute_result"
    }
   ],
   "source": [
    "df.sample(5)"
   ]
  },
  {
   "cell_type": "code",
   "execution_count": 9,
   "metadata": {},
   "outputs": [
    {
     "data": {
      "text/plain": [
       "27"
      ]
     },
     "execution_count": 9,
     "metadata": {},
     "output_type": "execute_result"
    }
   ],
   "source": [
    "df.duplicated().sum()"
   ]
  },
  {
   "cell_type": "code",
   "execution_count": 10,
   "metadata": {},
   "outputs": [],
   "source": [
    "#drop duplicated rows\n",
    "df=df.drop_duplicates()"
   ]
  },
  {
   "cell_type": "code",
   "execution_count": 11,
   "metadata": {},
   "outputs": [
    {
     "data": {
      "text/plain": [
       "(7453188, 29)"
      ]
     },
     "execution_count": 11,
     "metadata": {},
     "output_type": "execute_result"
    }
   ],
   "source": [
    "df.shape"
   ]
  },
  {
   "cell_type": "code",
   "execution_count": 12,
   "metadata": {},
   "outputs": [
    {
     "data": {
      "text/html": [
       "<div>\n",
       "<style scoped>\n",
       "    .dataframe tbody tr th:only-of-type {\n",
       "        vertical-align: middle;\n",
       "    }\n",
       "\n",
       "    .dataframe tbody tr th {\n",
       "        vertical-align: top;\n",
       "    }\n",
       "\n",
       "    .dataframe thead th {\n",
       "        text-align: right;\n",
       "    }\n",
       "</style>\n",
       "<table border=\"1\" class=\"dataframe\">\n",
       "  <thead>\n",
       "    <tr style=\"text-align: right;\">\n",
       "      <th></th>\n",
       "      <th>Year</th>\n",
       "      <th>Month</th>\n",
       "      <th>DayofMonth</th>\n",
       "      <th>DayOfWeek</th>\n",
       "      <th>DepTime</th>\n",
       "      <th>CRSDepTime</th>\n",
       "      <th>ArrTime</th>\n",
       "      <th>CRSArrTime</th>\n",
       "      <th>UniqueCarrier</th>\n",
       "      <th>FlightNum</th>\n",
       "      <th>...</th>\n",
       "      <th>TaxiIn</th>\n",
       "      <th>TaxiOut</th>\n",
       "      <th>Cancelled</th>\n",
       "      <th>CancellationCode</th>\n",
       "      <th>Diverted</th>\n",
       "      <th>CarrierDelay</th>\n",
       "      <th>WeatherDelay</th>\n",
       "      <th>NASDelay</th>\n",
       "      <th>SecurityDelay</th>\n",
       "      <th>LateAircraftDelay</th>\n",
       "    </tr>\n",
       "  </thead>\n",
       "  <tbody>\n",
       "    <tr>\n",
       "      <th>3029219</th>\n",
       "      <td>2007</td>\n",
       "      <td>5</td>\n",
       "      <td>18</td>\n",
       "      <td>5</td>\n",
       "      <td>1300.0</td>\n",
       "      <td>1300</td>\n",
       "      <td>1656.0</td>\n",
       "      <td>1706</td>\n",
       "      <td>CO</td>\n",
       "      <td>554</td>\n",
       "      <td>...</td>\n",
       "      <td>7</td>\n",
       "      <td>13</td>\n",
       "      <td>0</td>\n",
       "      <td>NaN</td>\n",
       "      <td>0</td>\n",
       "      <td>0</td>\n",
       "      <td>0</td>\n",
       "      <td>0</td>\n",
       "      <td>0</td>\n",
       "      <td>0</td>\n",
       "    </tr>\n",
       "    <tr>\n",
       "      <th>4191623</th>\n",
       "      <td>2007</td>\n",
       "      <td>7</td>\n",
       "      <td>18</td>\n",
       "      <td>3</td>\n",
       "      <td>1911.0</td>\n",
       "      <td>1909</td>\n",
       "      <td>2003.0</td>\n",
       "      <td>1958</td>\n",
       "      <td>9E</td>\n",
       "      <td>2949</td>\n",
       "      <td>...</td>\n",
       "      <td>6</td>\n",
       "      <td>19</td>\n",
       "      <td>0</td>\n",
       "      <td>NaN</td>\n",
       "      <td>0</td>\n",
       "      <td>0</td>\n",
       "      <td>0</td>\n",
       "      <td>0</td>\n",
       "      <td>0</td>\n",
       "      <td>0</td>\n",
       "    </tr>\n",
       "    <tr>\n",
       "      <th>3498969</th>\n",
       "      <td>2007</td>\n",
       "      <td>6</td>\n",
       "      <td>29</td>\n",
       "      <td>5</td>\n",
       "      <td>1525.0</td>\n",
       "      <td>1520</td>\n",
       "      <td>1722.0</td>\n",
       "      <td>1730</td>\n",
       "      <td>MQ</td>\n",
       "      <td>4321</td>\n",
       "      <td>...</td>\n",
       "      <td>3</td>\n",
       "      <td>11</td>\n",
       "      <td>0</td>\n",
       "      <td>NaN</td>\n",
       "      <td>0</td>\n",
       "      <td>0</td>\n",
       "      <td>0</td>\n",
       "      <td>0</td>\n",
       "      <td>0</td>\n",
       "      <td>0</td>\n",
       "    </tr>\n",
       "    <tr>\n",
       "      <th>1680316</th>\n",
       "      <td>2007</td>\n",
       "      <td>3</td>\n",
       "      <td>25</td>\n",
       "      <td>7</td>\n",
       "      <td>605.0</td>\n",
       "      <td>605</td>\n",
       "      <td>742.0</td>\n",
       "      <td>737</td>\n",
       "      <td>9E</td>\n",
       "      <td>5729</td>\n",
       "      <td>...</td>\n",
       "      <td>11</td>\n",
       "      <td>16</td>\n",
       "      <td>0</td>\n",
       "      <td>NaN</td>\n",
       "      <td>0</td>\n",
       "      <td>0</td>\n",
       "      <td>0</td>\n",
       "      <td>0</td>\n",
       "      <td>0</td>\n",
       "      <td>0</td>\n",
       "    </tr>\n",
       "    <tr>\n",
       "      <th>950440</th>\n",
       "      <td>2007</td>\n",
       "      <td>2</td>\n",
       "      <td>1</td>\n",
       "      <td>4</td>\n",
       "      <td>1303.0</td>\n",
       "      <td>1302</td>\n",
       "      <td>1434.0</td>\n",
       "      <td>1435</td>\n",
       "      <td>FL</td>\n",
       "      <td>705</td>\n",
       "      <td>...</td>\n",
       "      <td>4</td>\n",
       "      <td>8</td>\n",
       "      <td>0</td>\n",
       "      <td>NaN</td>\n",
       "      <td>0</td>\n",
       "      <td>0</td>\n",
       "      <td>0</td>\n",
       "      <td>0</td>\n",
       "      <td>0</td>\n",
       "      <td>0</td>\n",
       "    </tr>\n",
       "    <tr>\n",
       "      <th>5585408</th>\n",
       "      <td>2007</td>\n",
       "      <td>9</td>\n",
       "      <td>3</td>\n",
       "      <td>1</td>\n",
       "      <td>1808.0</td>\n",
       "      <td>1759</td>\n",
       "      <td>2042.0</td>\n",
       "      <td>2036</td>\n",
       "      <td>DL</td>\n",
       "      <td>525</td>\n",
       "      <td>...</td>\n",
       "      <td>15</td>\n",
       "      <td>33</td>\n",
       "      <td>0</td>\n",
       "      <td>NaN</td>\n",
       "      <td>0</td>\n",
       "      <td>0</td>\n",
       "      <td>0</td>\n",
       "      <td>0</td>\n",
       "      <td>0</td>\n",
       "      <td>0</td>\n",
       "    </tr>\n",
       "    <tr>\n",
       "      <th>5908303</th>\n",
       "      <td>2007</td>\n",
       "      <td>10</td>\n",
       "      <td>27</td>\n",
       "      <td>6</td>\n",
       "      <td>2113.0</td>\n",
       "      <td>1955</td>\n",
       "      <td>2315.0</td>\n",
       "      <td>2146</td>\n",
       "      <td>US</td>\n",
       "      <td>1056</td>\n",
       "      <td>...</td>\n",
       "      <td>5</td>\n",
       "      <td>32</td>\n",
       "      <td>0</td>\n",
       "      <td>NaN</td>\n",
       "      <td>0</td>\n",
       "      <td>0</td>\n",
       "      <td>0</td>\n",
       "      <td>11</td>\n",
       "      <td>0</td>\n",
       "      <td>78</td>\n",
       "    </tr>\n",
       "    <tr>\n",
       "      <th>521355</th>\n",
       "      <td>2007</td>\n",
       "      <td>1</td>\n",
       "      <td>20</td>\n",
       "      <td>6</td>\n",
       "      <td>830.0</td>\n",
       "      <td>830</td>\n",
       "      <td>1000.0</td>\n",
       "      <td>1010</td>\n",
       "      <td>AA</td>\n",
       "      <td>1550</td>\n",
       "      <td>...</td>\n",
       "      <td>9</td>\n",
       "      <td>9</td>\n",
       "      <td>0</td>\n",
       "      <td>NaN</td>\n",
       "      <td>0</td>\n",
       "      <td>0</td>\n",
       "      <td>0</td>\n",
       "      <td>0</td>\n",
       "      <td>0</td>\n",
       "      <td>0</td>\n",
       "    </tr>\n",
       "    <tr>\n",
       "      <th>1259486</th>\n",
       "      <td>2007</td>\n",
       "      <td>3</td>\n",
       "      <td>24</td>\n",
       "      <td>6</td>\n",
       "      <td>640.0</td>\n",
       "      <td>640</td>\n",
       "      <td>745.0</td>\n",
       "      <td>750</td>\n",
       "      <td>WN</td>\n",
       "      <td>1319</td>\n",
       "      <td>...</td>\n",
       "      <td>5</td>\n",
       "      <td>9</td>\n",
       "      <td>0</td>\n",
       "      <td>NaN</td>\n",
       "      <td>0</td>\n",
       "      <td>0</td>\n",
       "      <td>0</td>\n",
       "      <td>0</td>\n",
       "      <td>0</td>\n",
       "      <td>0</td>\n",
       "    </tr>\n",
       "    <tr>\n",
       "      <th>1502703</th>\n",
       "      <td>2007</td>\n",
       "      <td>3</td>\n",
       "      <td>4</td>\n",
       "      <td>7</td>\n",
       "      <td>1352.0</td>\n",
       "      <td>1345</td>\n",
       "      <td>1505.0</td>\n",
       "      <td>1453</td>\n",
       "      <td>US</td>\n",
       "      <td>786</td>\n",
       "      <td>...</td>\n",
       "      <td>2</td>\n",
       "      <td>24</td>\n",
       "      <td>0</td>\n",
       "      <td>NaN</td>\n",
       "      <td>0</td>\n",
       "      <td>0</td>\n",
       "      <td>0</td>\n",
       "      <td>0</td>\n",
       "      <td>0</td>\n",
       "      <td>0</td>\n",
       "    </tr>\n",
       "  </tbody>\n",
       "</table>\n",
       "<p>10 rows × 29 columns</p>\n",
       "</div>"
      ],
      "text/plain": [
       "         Year  Month  DayofMonth  DayOfWeek  DepTime  CRSDepTime  ArrTime  \\\n",
       "3029219  2007      5          18          5   1300.0        1300   1656.0   \n",
       "4191623  2007      7          18          3   1911.0        1909   2003.0   \n",
       "3498969  2007      6          29          5   1525.0        1520   1722.0   \n",
       "1680316  2007      3          25          7    605.0         605    742.0   \n",
       "950440   2007      2           1          4   1303.0        1302   1434.0   \n",
       "5585408  2007      9           3          1   1808.0        1759   2042.0   \n",
       "5908303  2007     10          27          6   2113.0        1955   2315.0   \n",
       "521355   2007      1          20          6    830.0         830   1000.0   \n",
       "1259486  2007      3          24          6    640.0         640    745.0   \n",
       "1502703  2007      3           4          7   1352.0        1345   1505.0   \n",
       "\n",
       "         CRSArrTime UniqueCarrier  FlightNum        ...         TaxiIn  \\\n",
       "3029219        1706            CO        554        ...              7   \n",
       "4191623        1958            9E       2949        ...              6   \n",
       "3498969        1730            MQ       4321        ...              3   \n",
       "1680316         737            9E       5729        ...             11   \n",
       "950440         1435            FL        705        ...              4   \n",
       "5585408        2036            DL        525        ...             15   \n",
       "5908303        2146            US       1056        ...              5   \n",
       "521355         1010            AA       1550        ...              9   \n",
       "1259486         750            WN       1319        ...              5   \n",
       "1502703        1453            US        786        ...              2   \n",
       "\n",
       "         TaxiOut  Cancelled  CancellationCode  Diverted  CarrierDelay  \\\n",
       "3029219       13          0               NaN         0             0   \n",
       "4191623       19          0               NaN         0             0   \n",
       "3498969       11          0               NaN         0             0   \n",
       "1680316       16          0               NaN         0             0   \n",
       "950440         8          0               NaN         0             0   \n",
       "5585408       33          0               NaN         0             0   \n",
       "5908303       32          0               NaN         0             0   \n",
       "521355         9          0               NaN         0             0   \n",
       "1259486        9          0               NaN         0             0   \n",
       "1502703       24          0               NaN         0             0   \n",
       "\n",
       "        WeatherDelay NASDelay  SecurityDelay  LateAircraftDelay  \n",
       "3029219            0        0              0                  0  \n",
       "4191623            0        0              0                  0  \n",
       "3498969            0        0              0                  0  \n",
       "1680316            0        0              0                  0  \n",
       "950440             0        0              0                  0  \n",
       "5585408            0        0              0                  0  \n",
       "5908303            0       11              0                 78  \n",
       "521355             0        0              0                  0  \n",
       "1259486            0        0              0                  0  \n",
       "1502703            0        0              0                  0  \n",
       "\n",
       "[10 rows x 29 columns]"
      ]
     },
     "execution_count": 12,
     "metadata": {},
     "output_type": "execute_result"
    }
   ],
   "source": [
    "df.sample(10)"
   ]
  },
  {
   "cell_type": "markdown",
   "metadata": {},
   "source": [
    "### What is the structure of your dataset?\n",
    "\n",
    "> The data table has 7453188 flights (rows)  29 columns\n",
    "\n",
    "### What is/are the main feature(s) of interest in your dataset?\n",
    "\n",
    "> The main features are factors that are responsible for causing delays and cancellations. \n",
    "\n",
    "### What features in the dataset do you think will help support your investigation into your feature(s) of interest?\n",
    "\n",
    "> The features of interest are factors that are attributed to delays in arrival and departure and cancellation codes and reasons. "
   ]
  },
  {
   "cell_type": "markdown",
   "metadata": {},
   "source": [
    "# Univariate Exploration\n",
    "\n"
   ]
  },
  {
   "cell_type": "code",
   "execution_count": 13,
   "metadata": {},
   "outputs": [],
   "source": [
    "#Lets create a function that will rename x,y axis and chart title. \n",
    "#we can re-use this function since we will be doing a lot of plots.\n",
    "\n",
    "def labels(x,y,title):\n",
    "    plt.title(title)\n",
    "    plt.xlabel(x)\n",
    "    plt.ylabel(y)"
   ]
  },
  {
   "cell_type": "code",
   "execution_count": 14,
   "metadata": {},
   "outputs": [],
   "source": [
    "base_color=sb.color_palette()[0]"
   ]
  },
  {
   "cell_type": "markdown",
   "metadata": {},
   "source": [
    "## First let's take a look in the distribution of flights by month to see which months have more flights ?"
   ]
  },
  {
   "cell_type": "code",
   "execution_count": 15,
   "metadata": {},
   "outputs": [
    {
     "data": {
      "image/png": "[encoded data removed]",
      "text/plain": [
       "<matplotlib.figure.Figure at 0x7f5aa20dc748>"
      ]
     },
     "metadata": {
      "needs_background": "light"
     },
     "output_type": "display_data"
    }
   ],
   "source": [
    "# the distribution by month\n",
    "sb.countplot(data = df, x = 'Month', color = base_color)\n",
    "labels('Mounth','Count','number of flights by mounth')"
   ]
  },
  {
   "cell_type": "markdown",
   "metadata": {},
   "source": [
    "### -As the plot show there are more flights on July and August "
   ]
  },
  {
   "cell_type": "markdown",
   "metadata": {},
   "source": [
    "## What about the number of flights by day of week? is there a specific day where the number of  flights are less than usual ?"
   ]
  },
  {
   "cell_type": "code",
   "execution_count": 16,
   "metadata": {},
   "outputs": [
    {
     "data": {
      "image/png": "[encoded data removed]",
      "text/plain": [
       "<matplotlib.figure.Figure at 0x7f5aa1eb4780>"
      ]
     },
     "metadata": {
      "needs_background": "light"
     },
     "output_type": "display_data"
    }
   ],
   "source": [
    "# the distribution by day of week\n",
    "sb.countplot(data = df, x = 'DayOfWeek', color = base_color)\n",
    "labels('Day','Count','number of flights by day of week')"
   ]
  },
  {
   "cell_type": "markdown",
   "metadata": {},
   "source": [
    "### -Saturdays have less flights than other days."
   ]
  },
  {
   "cell_type": "markdown",
   "metadata": {},
   "source": [
    "## Now that we have an idea about number of flights by month and day .What is the proportion of cancelled one ?"
   ]
  },
  {
   "cell_type": "code",
   "execution_count": 17,
   "metadata": {},
   "outputs": [
    {
     "data": {
      "text/plain": [
       "Text(0.5,1,'proportion of cancelled flights')"
      ]
     },
     "execution_count": 17,
     "metadata": {},
     "output_type": "execute_result"
    },
    {
     "data": {
      "image/png": "[encoded data removed]",
      "text/plain": [
       "<matplotlib.figure.Figure at 0x7f5aa1e32e10>"
      ]
     },
     "metadata": {},
     "output_type": "display_data"
    }
   ],
   "source": [
    "#Proportion of Cancelled flights\n",
    "cancelled_flights = flights['Cancelled'].value_counts()\n",
    "labels = f'Not cancelled\\n{cancelled_flights.values[0]}', f'Cancelled\\n{cancelled_flights.values[1]}'\n",
    "plt.pie(cancelled_flights, labels =labels, startangle = 90,\n",
    "        counterclock = False, wedgeprops = {'width' : 0.4}, autopct='%.2f%%');\n",
    "plt.axis('square')\n",
    "plt.title('proportion of cancelled flights')"
   ]
  },
  {
   "cell_type": "markdown",
   "metadata": {},
   "source": [
    "### -In 2017 160k flights (2.16%) were cancelled."
   ]
  },
  {
   "cell_type": "markdown",
   "metadata": {},
   "source": [
    "## What are the main reasons that cause cancellation?"
   ]
  },
  {
   "cell_type": "code",
   "execution_count": 18,
   "metadata": {},
   "outputs": [
    {
     "data": {
      "text/plain": [
       "Text(0,0.5,'Count')"
      ]
     },
     "execution_count": 18,
     "metadata": {},
     "output_type": "execute_result"
    },
    {
     "data": {
      "image/png": "[encoded data removed]",
      "text/plain": [
       "<matplotlib.figure.Figure at 0x7f5aa1eb99b0>"
      ]
     },
     "metadata": {
      "needs_background": "light"
     },
     "output_type": "display_data"
    }
   ],
   "source": [
    "base_color = sb.color_palette()[0]\n",
    "canc=sb.countplot(data=df, x='CancellationCode', color=base_color,order=['A','B','C','D']);\n",
    "canc.set_xticklabels(['Carrier','Weather','National Air System','Security']);\n",
    "canc.set_title('Cancellation Reasons')\n",
    "canc.set_xlabel('Cancellation Code')\n",
    "canc.set_ylabel('Count')"
   ]
  },
  {
   "cell_type": "markdown",
   "metadata": {},
   "source": [
    "### -Most of the flights were cancelled due to Carrier reasons followed by Weather reasons."
   ]
  },
  {
   "cell_type": "code",
   "execution_count": 19,
   "metadata": {},
   "outputs": [],
   "source": [
    "# I will create a sub dataset with only the cancelled flights\n",
    "cancelled = df[df.Cancelled == 1]"
   ]
  },
  {
   "cell_type": "code",
   "execution_count": 20,
   "metadata": {},
   "outputs": [],
   "source": [
    "# I will create a sub dataset with only the delayed flights\n",
    "delayed = df[df['ArrDelay']>=15]"
   ]
  },
  {
   "cell_type": "markdown",
   "metadata": {},
   "source": [
    "## What causes delay?"
   ]
  },
  {
   "cell_type": "code",
   "execution_count": 21,
   "metadata": {},
   "outputs": [
    {
     "data": {
      "text/plain": [
       "Text(0.5,1,'delay reasons')"
      ]
     },
     "execution_count": 21,
     "metadata": {},
     "output_type": "execute_result"
    },
    {
     "data": {
      "image/png": "[encoded data removed]",
      "text/plain": [
       "<matplotlib.figure.Figure at 0x7f5aa1dc0860>"
      ]
     },
     "metadata": {
      "needs_background": "light"
     },
     "output_type": "display_data"
    }
   ],
   "source": [
    "#delayed causes\n",
    "plt.figure(figsize=(16, 6))\n",
    "x=['CarrierDelay','WeatherDelay','NASDelay','SecurityDelay','LateAircraftDelay']\n",
    "y = [delayed[i].mean() for i in x]\n",
    "sb.barplot(x, y)\n",
    "plt.title('delay reasons')"
   ]
  },
  {
   "cell_type": "markdown",
   "metadata": {},
   "source": [
    "### -Most of the flights were delayed due to Late air craft reasons followed by carrier reasons."
   ]
  },
  {
   "cell_type": "markdown",
   "metadata": {},
   "source": [
    "## Bivariate Exploration\n"
   ]
  },
  {
   "cell_type": "markdown",
   "metadata": {},
   "source": [
    "## What is the relationship between departure and arrival delays?"
   ]
  },
  {
   "cell_type": "code",
   "execution_count": 22,
   "metadata": {},
   "outputs": [
    {
     "data": {
      "text/plain": [
       "Text(0,0.5,'departure delay')"
      ]
     },
     "execution_count": 22,
     "metadata": {},
     "output_type": "execute_result"
    },
    {
     "data": {
      "image/png": "[encoded data removed]",
      "text/plain": [
       "<matplotlib.figure.Figure at 0x7f5aa1d2d668>"
      ]
     },
     "metadata": {
      "needs_background": "light"
     },
     "output_type": "display_data"
    }
   ],
   "source": [
    "sb.regplot(data=delayed,x='ArrDelay',y='DepDelay').set(title='relationship between departure and arrival delays')\n",
    "plt.xlabel('arrival delay')\n",
    "plt.ylabel('departure delay')"
   ]
  },
  {
   "cell_type": "markdown",
   "metadata": {},
   "source": [
    "### -there is a strong correlation between the departure delay and the arrival delay except for a few points."
   ]
  },
  {
   "cell_type": "markdown",
   "metadata": {},
   "source": [
    "## Which month had the most cancellations for each cancellation reason? "
   ]
  },
  {
   "cell_type": "code",
   "execution_count": 23,
   "metadata": {
    "scrolled": true
   },
   "outputs": [
    {
     "data": {
      "image/png": "[encoded data removed]",
      "text/plain": [
       "<matplotlib.figure.Figure at 0x7f5aa1c705f8>"
      ]
     },
     "metadata": {
      "needs_background": "light"
     },
     "output_type": "display_data"
    }
   ],
   "source": [
    "# month that had the most cancellations for each cancellation code\n",
    "month_order=[1,2,3,4,5,6,7,8,9,10,11,12]\n",
    "g=sb.FacetGrid(data=cancelled,col='CancellationCode')\n",
    "g.map(sb.countplot,'Month',order=month_order).set(title='cancellations reason by month')\n",
    "g.set_titles(\"{col_name}\");"
   ]
  },
  {
   "cell_type": "markdown",
   "metadata": {},
   "source": [
    "### -The plot above for \"B\" : cancellations due to weather ,shows that the months of December, January, February and March had most cancellations."
   ]
  },
  {
   "cell_type": "markdown",
   "metadata": {},
   "source": [
    "## Is there any difference between month when we measure  delays?"
   ]
  },
  {
   "cell_type": "code",
   "execution_count": 24,
   "metadata": {},
   "outputs": [
    {
     "data": {
      "text/plain": [
       "(-25, 60)"
      ]
     },
     "execution_count": 24,
     "metadata": {},
     "output_type": "execute_result"
    },
    {
     "data": {
      "image/png": "[encoded data removed]",
      "text/plain": [
       "<matplotlib.figure.Figure at 0x7f5aa1b61940>"
      ]
     },
     "metadata": {
      "needs_background": "light"
     },
     "output_type": "display_data"
    }
   ],
   "source": [
    "plt.figure(figsize=[10,10])\n",
    "a=sb.boxplot(data=df, x='Month', y='DepDelay',color=base_color)\n",
    "plt.ylim(-25,60)"
   ]
  },
  {
   "cell_type": "markdown",
   "metadata": {},
   "source": [
    "## -There is no statistically difference between month when we measure  delays"
   ]
  },
  {
   "cell_type": "markdown",
   "metadata": {},
   "source": [
    "## What about the day of the week?"
   ]
  },
  {
   "cell_type": "code",
   "execution_count": 25,
   "metadata": {},
   "outputs": [
    {
     "data": {
      "text/plain": [
       "(-30, 50)"
      ]
     },
     "execution_count": 25,
     "metadata": {},
     "output_type": "execute_result"
    },
    {
     "data": {
      "image/png": "[encoded data removed]",
      "text/plain": [
       "<matplotlib.figure.Figure at 0x7f5aa1a480b8>"
      ]
     },
     "metadata": {
      "needs_background": "light"
     },
     "output_type": "display_data"
    }
   ],
   "source": [
    "# the day of the week\n",
    "plt.figure(figsize=[10,10])\n",
    "sb.boxplot(data=df, x='DayOfWeek', y='DepDelay',color=base_color)\n",
    "plt.ylim(-30,50)"
   ]
  },
  {
   "cell_type": "markdown",
   "metadata": {},
   "source": [
    "## -There is no statistically difference between day of week when we measure delays"
   ]
  },
  {
   "cell_type": "markdown",
   "metadata": {},
   "source": [
    "## Is there any difference between cities when we mesure delays?"
   ]
  },
  {
   "cell_type": "code",
   "execution_count": 26,
   "metadata": {},
   "outputs": [
    {
     "data": {
      "image/png": "[encoded data removed]",
      "text/plain": [
       "<matplotlib.figure.Figure at 0x7f5aa19d2ba8>"
      ]
     },
     "metadata": {
      "needs_background": "light"
     },
     "output_type": "display_data"
    }
   ],
   "source": [
    "# lets see the cities with major counts\n",
    "plt.figure(figsize=[10,10])\n",
    "cities = df.Origin.value_counts().head(18).index.tolist()\n",
    "flights_cities = df[df.Origin.isin(cities)]\n",
    "order4 =sorted(cities)\n",
    "fig=sb.barplot(data=flights_cities, x='Origin',y='DepDelay',color=base_color, order=order4).set(title='mesure of departure delays by cities')"
   ]
  },
  {
   "cell_type": "markdown",
   "metadata": {},
   "source": [
    "### -EWR (NYC) has the bigest mean delay."
   ]
  },
  {
   "cell_type": "markdown",
   "metadata": {},
   "source": [
    "# result when we cancider large delay times"
   ]
  },
  {
   "cell_type": "code",
   "execution_count": 27,
   "metadata": {},
   "outputs": [
    {
     "data": {
      "text/plain": [
       "[Text(0.5,1,'mesure of departure delays by cities')]"
      ]
     },
     "execution_count": 27,
     "metadata": {},
     "output_type": "execute_result"
    },
    {
     "data": {
      "image/png": "[encoded data removed]",
      "text/plain": [
       "<matplotlib.figure.Figure at 0x7f5aa1949550>"
      ]
     },
     "metadata": {
      "needs_background": "light"
     },
     "output_type": "display_data"
    }
   ],
   "source": [
    "\n",
    "plt.figure(figsize=[10,10])\n",
    "cities = delayed.Origin.value_counts().head(18).index.tolist()\n",
    "flights_cities = delayed[delayed.Origin.isin(cities)]\n",
    "order4 =sorted(cities)\n",
    "sb.barplot(data=flights_cities, x='Origin',y='DepDelay',color=base_color, order=order4).set(title='mesure of departure delays by cities')"
   ]
  },
  {
   "cell_type": "markdown",
   "metadata": {},
   "source": [
    "### -for large delays EWR is still first"
   ]
  },
  {
   "cell_type": "markdown",
   "metadata": {},
   "source": [
    "## What are the cancellation reson in this cities?"
   ]
  },
  {
   "cell_type": "code",
   "execution_count": 28,
   "metadata": {},
   "outputs": [
    {
     "data": {
      "text/plain": [
       "[Text(0.5,1,'cancellation reason in cities')]"
      ]
     },
     "execution_count": 28,
     "metadata": {},
     "output_type": "execute_result"
    },
    {
     "data": {
      "image/png": "[encoded data removed]",
      "text/plain": [
       "<matplotlib.figure.Figure at 0x7f5a49265f60>"
      ]
     },
     "metadata": {
      "needs_background": "light"
     },
     "output_type": "display_data"
    }
   ],
   "source": [
    "# let's see what are the cancellation reason in this cities \n",
    "cancelled_cities = cancelled[cancelled.Origin.isin(cancelled.Origin.value_counts().head(10).index.tolist())]\n",
    "plt.figure(figsize=[9,9])\n",
    "sb.countplot(data=cancelled_cities, x='Origin',hue='CancellationCode').set(title='cancellation reason in cities')"
   ]
  },
  {
   "cell_type": "markdown",
   "metadata": {},
   "source": [
    "### -in all the cities the most frequent cancellation reason is weather (B) but in EWR and ORD the National Air System (C) is also an importan reason. Moreover, in ORD the three main reasons (B, C and Carrier(A)) are really similar."
   ]
  },
  {
   "cell_type": "markdown",
   "metadata": {},
   "source": [
    "## What is the relationship between departure delay and carrier delay?"
   ]
  },
  {
   "cell_type": "code",
   "execution_count": 29,
   "metadata": {},
   "outputs": [
    {
     "data": {
      "text/plain": [
       "Text(0.5,1,'relationship between departure delay and carrier delay')"
      ]
     },
     "execution_count": 29,
     "metadata": {},
     "output_type": "execute_result"
    },
    {
     "data": {
      "image/png": "[encoded data removed]",
      "text/plain": [
       "<matplotlib.figure.Figure at 0x7f5aa19869b0>"
      ]
     },
     "metadata": {
      "needs_background": "light"
     },
     "output_type": "display_data"
    }
   ],
   "source": [
    "sb.regplot(data=df, x='CarrierDelay',y='DepDelay')\n",
    "plt.title('relationship between departure delay and carrier delay')"
   ]
  },
  {
   "cell_type": "markdown",
   "metadata": {},
   "source": [
    "### -there is a strong correlation between the departure delay and the carrier delay ."
   ]
  },
  {
   "cell_type": "markdown",
   "metadata": {},
   "source": [
    "##   for each month which cancellation reasons is more important ? "
   ]
  },
  {
   "cell_type": "code",
   "execution_count": 30,
   "metadata": {},
   "outputs": [
    {
     "name": "stderr",
     "output_type": "stream",
     "text": [
      "/opt/conda/lib/python3.6/site-packages/seaborn/axisgrid.py:703: UserWarning: Using the countplot function without specifying `order` is likely to produce an incorrect plot.\n",
      "  warnings.warn(warning)\n"
     ]
    },
    {
     "data": {
      "text/plain": [
       "<seaborn.axisgrid.FacetGrid at 0x7f5a49183160>"
      ]
     },
     "execution_count": 30,
     "metadata": {},
     "output_type": "execute_result"
    },
    {
     "data": {
      "text/plain": [
       "<matplotlib.figure.Figure at 0x7f5a491832b0>"
      ]
     },
     "metadata": {},
     "output_type": "display_data"
    },
    {
     "data": {
      "image/png": "[encoded data removed]",
      "text/plain": [
       "<matplotlib.figure.Figure at 0x7f5a491389e8>"
      ]
     },
     "metadata": {
      "needs_background": "light"
     },
     "output_type": "display_data"
    }
   ],
   "source": [
    "plt.figure(figsize = [12,10])\n",
    "g=sb.FacetGrid(data = cancelled, col = 'Month', col_wrap=4, size=3)\n",
    "g.map(sb.countplot, 'CancellationCode').set(title='cancellation reasons for each month')"
   ]
  },
  {
   "cell_type": "markdown",
   "metadata": {},
   "source": [
    "### -for month 10,11,8,6,4 carrier delays are more important than weather delays."
   ]
  },
  {
   "cell_type": "markdown",
   "metadata": {},
   "source": [
    "## Multivariate Exploration\n"
   ]
  },
  {
   "cell_type": "markdown",
   "metadata": {},
   "source": [
    "## Is there a specific day of the month where the delays are larger?"
   ]
  },
  {
   "cell_type": "code",
   "execution_count": 31,
   "metadata": {},
   "outputs": [
    {
     "data": {
      "image/png": "[encoded data removed]",
      "text/plain": [
       "<matplotlib.figure.Figure at 0x7f5a48977b38>"
      ]
     },
     "metadata": {
      "needs_background": "light"
     },
     "output_type": "display_data"
    }
   ],
   "source": [
    "#i will try to combain month and day of week\n",
    "plt.figure(figsize = [12,10])\n",
    "sb.pointplot(data = delayed.sample(500000), x = 'Month', y = 'DepDelay', hue = 'DayOfWeek',linestyles = '', dodge = 0.3).set(title='departure delays depending on month and day of week');"
   ]
  },
  {
   "cell_type": "markdown",
   "metadata": {},
   "source": [
    "### the delays are significantly larger on Tuesday June , Sunday July...\n",
    "### the delays are significantly lower on wednesday September,Saturday November..."
   ]
  },
  {
   "cell_type": "markdown",
   "metadata": {},
   "source": [
    "\n",
    "\n",
    "\n",
    "> At the end of your report, make sure that you export the notebook as an\n",
    "html file from the `File > Download as... > HTML or PDF` menu. Make sure you keep\n",
    "track of where the exported file goes, so you can put it in the same folder\n",
    "as this notebook for project submission. Also, make sure you remove all of\n",
    "the quote-formatted guide notes like this one before you finish your report!\n",
    "\n"
   ]
  }
 ],
 "metadata": {
  "kernelspec": {
   "display_name": "Python 3",
   "language": "python",
   "name": "python3"
  },
  "language_info": {
   "codemirror_mode": {
    "name": "ipython",
    "version": 3
   },
   "file_extension": ".py",
   "mimetype": "text/x-python",
   "name": "python",
   "nbconvert_exporter": "python",
   "pygments_lexer": "ipython3",
   "version": "3.6.3"
  }
 },
 "nbformat": 4,
 "nbformat_minor": 2
}
